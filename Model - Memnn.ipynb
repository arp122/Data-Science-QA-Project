{
 "cells": [
  {
   "cell_type": "code",
   "execution_count": 1,
   "metadata": {
    "collapsed": true
   },
   "outputs": [],
   "source": [
    "from sklearn.metrics import accuracy_score"
   ]
  },
  {
   "cell_type": "code",
   "execution_count": 2,
   "metadata": {
    "collapsed": false
   },
   "outputs": [
    {
     "name": "stderr",
     "output_type": "stream",
     "text": [
      "//anaconda/lib/python3.5/site-packages/h5py/__init__.py:34: FutureWarning: Conversion of the second argument of issubdtype from `float` to `np.floating` is deprecated. In future, it will be treated as `np.float64 == np.dtype(float).type`.\n",
      "  from ._conv import register_converters as _register_converters\n",
      "Using TensorFlow backend.\n"
     ]
    }
   ],
   "source": [
    "from keras.models import Sequential, Model\n",
    "from keras.layers.embeddings import Embedding\n",
    "from keras.layers import Input, Activation, Dense, Permute, Dropout, add, dot, concatenate\n",
    "from keras.layers import LSTM\n",
    "from keras.utils.data_utils import get_file\n",
    "from keras.preprocessing.sequence import pad_sequences"
   ]
  },
  {
   "cell_type": "code",
   "execution_count": 6,
   "metadata": {
    "collapsed": false
   },
   "outputs": [
    {
     "name": "stderr",
     "output_type": "stream",
     "text": [
      "//anaconda/lib/python3.5/re.py:203: FutureWarning: split() requires a non-empty pattern match.\n",
      "  return _compile(pattern, flags).split(string, maxsplit)\n"
     ]
    },
    {
     "name": "stdout",
     "output_type": "stream",
     "text": [
      "vocab = ['.', '?', 'Bill', 'Fred', 'Jeff', 'Mary', 'What', 'Who', 'apple', 'did', 'football', 'gave', 'give', 'handed', 'milk', 'passed', 'received', 'the', 'to']\n",
      "x.shape = (1000, 7)\n",
      "xq.shape = (1000, 8)\n",
      "y.shape = (1000,)\n",
      "story_maxlen, query_maxlen = 7, 8\n"
     ]
    }
   ],
   "source": [
    "from functools import reduce\n",
    "import tarfile\n",
    "import numpy as np\n",
    "import re\n",
    "\n",
    "\n",
    "def tokenize(sent):\n",
    "    token = []\n",
    "    for x in re.split('(\\W+)?', sent):\n",
    "        if x.strip():\n",
    "            token.append(x.strip())\n",
    "    return token\n",
    "\n",
    "def parse_stories(lines,only_supporting=False):\n",
    "    data = []\n",
    "    story = []\n",
    "    for line in lines:\n",
    "        line = line.decode('utf-8').strip()\n",
    "        nid, line = line.split(' ', 1)\n",
    "        nid = int(nid)\n",
    "        if nid == 1:\n",
    "            story = []\n",
    "        if '\\t' in line:\n",
    "            q, a, supporting = line.split('\\t')\n",
    "            q = tokenize(q)\n",
    "            substory = None\n",
    "            if only_supporting:\n",
    "                # Only select the related substory\n",
    "                supporting = map(int, supporting.split())\n",
    "                substory = [story[i - 1] for i in supporting]\n",
    "            else:\n",
    "                # Provide all the substories\n",
    "                substory = [x for x in story if x]\n",
    "            data.append((substory, q, a))\n",
    "            story.append('')\n",
    "        else:\n",
    "            sent = tokenize(line)\n",
    "            story.append(sent)\n",
    "    return data\n",
    "\n",
    "\n",
    "def get_stories(file,only_supporting=False):\n",
    "    data = parse_stories(file.readlines(),only_supporting)\n",
    "    flatten = lambda data: reduce(lambda x, y: x + y, data)\n",
    "    \n",
    "    temp_data = []\n",
    "    for story, q, answer in data:\n",
    "        temp_data.append((flatten(story), q, answer))\n",
    "    return temp_data\n",
    "\n",
    "\n",
    "def vectorize_stories(data):\n",
    "    inputs, queries, answers = [], [], []\n",
    "    for story, query, answer in data:\n",
    "        inputs.append([word_idx[w] for w in story])\n",
    "        queries.append([word_idx[w] for w in query])\n",
    "        answers.append(word_idx[answer])\n",
    "    return (pad_sequences(inputs, maxlen=story_maxlen),\n",
    "            pad_sequences(queries, maxlen=query_maxlen),\n",
    "            np.array(answers))\n",
    "\n",
    "# Download the dataset\n",
    "try:\n",
    "    path = get_file('babi-tasks-v1-2.tar.gz', origin='https://s3.amazonaws.com/text-datasets/babi_tasks_1-20_v1-2.tar.gz')\n",
    "except:\n",
    "    print('Error downloading dataset, please download it manually:\\n'\n",
    "          '$ wget http://www.thespermwhale.com/jaseweston/babi/tasks_1-20_v1-2.tar.gz\\n'\n",
    "          '$ mv tasks_1-20_v1-2.tar.gz ~/.keras/datasets/babi-tasks-v1-2.tar.gz')\n",
    "    raise\n",
    "\n",
    "\n",
    "task = 'tasks_1-20_v1-2/en/qa5_three-arg-relations_{}.txt'\n",
    "\n",
    "with tarfile.open(path) as tar:\n",
    "    train_stories = get_stories(tar.extractfile(task.format('train')),only_supporting=True)\n",
    "    test_stories = get_stories(tar.extractfile(task.format('test')),only_supporting=True)\n",
    "\n",
    "    \n",
    "vocab = set()\n",
    "for story, q, answer in train_stories + test_stories:\n",
    "    vocab |= set(story + q + [answer])\n",
    "vocab = sorted(vocab)\n",
    "\n",
    "\n",
    "vocab_size = len(vocab) + 1\n",
    "\n",
    "story_maxlen = max(map(len, (x for x, _, _ in train_stories + test_stories)))\n",
    "query_maxlen = max(map(len, (x for _, x, _ in train_stories + test_stories)))\n",
    "\n",
    "word_idx = dict((c, i + 1) for i, c in enumerate(vocab))\n",
    "inputs_train, queries_train, answers_train = vectorize_stories(train_stories)\n",
    "inputs_test, queries_test, answers_test = vectorize_stories(test_stories)\n",
    "\n",
    "print('vocab = {}'.format(vocab))\n",
    "print('x.shape = {}'.format(inputs_train.shape))\n",
    "print('xq.shape = {}'.format(queries_train.shape))\n",
    "print('y.shape = {}'.format(answers_train.shape))\n",
    "print('story_maxlen, query_maxlen = {}, {}'.format(story_maxlen, query_maxlen))"
   ]
  },
  {
   "cell_type": "code",
   "execution_count": 7,
   "metadata": {
    "collapsed": false,
    "scrolled": true
   },
   "outputs": [
    {
     "name": "stdout",
     "output_type": "stream",
     "text": [
      "Train on 1000 samples, validate on 1000 samples\n",
      "Epoch 1/100\n",
      "1000/1000 [==============================] - 1s 1ms/step - loss: 2.8547 - acc: 0.1570 - val_loss: 2.5413 - val_acc: 0.1880\n",
      "Epoch 2/100\n",
      "1000/1000 [==============================] - 0s 493us/step - loss: 2.1521 - acc: 0.1970 - val_loss: 1.6843 - val_acc: 0.2890\n",
      "Epoch 3/100\n",
      "1000/1000 [==============================] - 0s 478us/step - loss: 1.6049 - acc: 0.2770 - val_loss: 1.3796 - val_acc: 0.3330\n",
      "Epoch 4/100\n",
      "1000/1000 [==============================] - 0s 493us/step - loss: 1.4495 - acc: 0.2960 - val_loss: 1.3361 - val_acc: 0.3330\n",
      "Epoch 5/100\n",
      "1000/1000 [==============================] - 0s 496us/step - loss: 1.4282 - acc: 0.2930 - val_loss: 1.3239 - val_acc: 0.3520\n",
      "Epoch 6/100\n",
      "1000/1000 [==============================] - 0s 478us/step - loss: 1.3945 - acc: 0.3100 - val_loss: 1.3193 - val_acc: 0.3060\n",
      "Epoch 7/100\n",
      "1000/1000 [==============================] - 1s 661us/step - loss: 1.3774 - acc: 0.2860 - val_loss: 1.3095 - val_acc: 0.2890\n",
      "Epoch 8/100\n",
      "1000/1000 [==============================] - 1s 508us/step - loss: 1.3821 - acc: 0.2970 - val_loss: 1.2934 - val_acc: 0.4360\n",
      "Epoch 9/100\n",
      "1000/1000 [==============================] - 1s 535us/step - loss: 1.3353 - acc: 0.3610 - val_loss: 1.2714 - val_acc: 0.4260\n",
      "Epoch 10/100\n",
      "1000/1000 [==============================] - 0s 450us/step - loss: 1.2978 - acc: 0.3750 - val_loss: 1.2147 - val_acc: 0.4370\n",
      "Epoch 11/100\n",
      "1000/1000 [==============================] - 0s 468us/step - loss: 1.2071 - acc: 0.4400 - val_loss: 1.1213 - val_acc: 0.4760\n",
      "Epoch 12/100\n",
      "1000/1000 [==============================] - 0s 479us/step - loss: 1.1036 - acc: 0.5190 - val_loss: 1.0357 - val_acc: 0.5550\n",
      "Epoch 13/100\n",
      "1000/1000 [==============================] - 0s 451us/step - loss: 1.0321 - acc: 0.5310 - val_loss: 0.9770 - val_acc: 0.5890\n",
      "Epoch 14/100\n",
      "1000/1000 [==============================] - 0s 449us/step - loss: 0.9777 - acc: 0.5660 - val_loss: 0.9165 - val_acc: 0.6350\n",
      "Epoch 15/100\n",
      "1000/1000 [==============================] - 0s 458us/step - loss: 0.8819 - acc: 0.6250 - val_loss: 0.8445 - val_acc: 0.6990\n",
      "Epoch 16/100\n",
      "1000/1000 [==============================] - 0s 457us/step - loss: 0.8760 - acc: 0.6320 - val_loss: 0.8174 - val_acc: 0.6910\n",
      "Epoch 17/100\n",
      "1000/1000 [==============================] - 1s 576us/step - loss: 0.8236 - acc: 0.6430 - val_loss: 0.7881 - val_acc: 0.7070\n",
      "Epoch 18/100\n",
      "1000/1000 [==============================] - 1s 548us/step - loss: 0.7961 - acc: 0.6620 - val_loss: 0.7535 - val_acc: 0.6810\n",
      "Epoch 19/100\n",
      "1000/1000 [==============================] - 1s 568us/step - loss: 0.7869 - acc: 0.6540 - val_loss: 0.7396 - val_acc: 0.7020\n",
      "Epoch 20/100\n",
      "1000/1000 [==============================] - 1s 528us/step - loss: 0.7772 - acc: 0.6700 - val_loss: 0.7203 - val_acc: 0.7170\n",
      "Epoch 21/100\n",
      "1000/1000 [==============================] - 1s 532us/step - loss: 0.7428 - acc: 0.6860 - val_loss: 0.6868 - val_acc: 0.7320\n",
      "Epoch 22/100\n",
      "1000/1000 [==============================] - 1s 542us/step - loss: 0.7071 - acc: 0.7110 - val_loss: 0.6743 - val_acc: 0.7770\n",
      "Epoch 23/100\n",
      "1000/1000 [==============================] - 0s 492us/step - loss: 0.6800 - acc: 0.7220 - val_loss: 0.6289 - val_acc: 0.7680\n",
      "Epoch 24/100\n",
      "1000/1000 [==============================] - 1s 575us/step - loss: 0.6676 - acc: 0.7150 - val_loss: 0.6093 - val_acc: 0.7540\n",
      "Epoch 25/100\n",
      "1000/1000 [==============================] - 0s 435us/step - loss: 0.6265 - acc: 0.7560 - val_loss: 0.5888 - val_acc: 0.8040\n",
      "Epoch 26/100\n",
      "1000/1000 [==============================] - 1s 523us/step - loss: 0.6342 - acc: 0.7440 - val_loss: 0.5642 - val_acc: 0.7930\n",
      "Epoch 27/100\n",
      "1000/1000 [==============================] - 0s 439us/step - loss: 0.5939 - acc: 0.7560 - val_loss: 0.5444 - val_acc: 0.8180\n",
      "Epoch 28/100\n",
      "1000/1000 [==============================] - 0s 438us/step - loss: 0.5836 - acc: 0.7620 - val_loss: 0.5192 - val_acc: 0.8260\n",
      "Epoch 29/100\n",
      "1000/1000 [==============================] - 0s 448us/step - loss: 0.5633 - acc: 0.7740 - val_loss: 0.5035 - val_acc: 0.8450\n",
      "Epoch 30/100\n",
      "1000/1000 [==============================] - 0s 456us/step - loss: 0.5274 - acc: 0.7740 - val_loss: 0.4726 - val_acc: 0.8370\n",
      "Epoch 31/100\n",
      "1000/1000 [==============================] - 0s 482us/step - loss: 0.5147 - acc: 0.7910 - val_loss: 0.4570 - val_acc: 0.8530\n",
      "Epoch 32/100\n",
      "1000/1000 [==============================] - 0s 474us/step - loss: 0.4827 - acc: 0.8120 - val_loss: 0.4292 - val_acc: 0.8690\n",
      "Epoch 33/100\n",
      "1000/1000 [==============================] - 0s 482us/step - loss: 0.4581 - acc: 0.8250 - val_loss: 0.4020 - val_acc: 0.8690\n",
      "Epoch 34/100\n",
      "1000/1000 [==============================] - 0s 465us/step - loss: 0.4253 - acc: 0.8470 - val_loss: 0.3760 - val_acc: 0.8690\n",
      "Epoch 35/100\n",
      "1000/1000 [==============================] - 0s 432us/step - loss: 0.4240 - acc: 0.8290 - val_loss: 0.3538 - val_acc: 0.8700\n",
      "Epoch 36/100\n",
      "1000/1000 [==============================] - 0s 441us/step - loss: 0.3933 - acc: 0.8610 - val_loss: 0.3318 - val_acc: 0.8790\n",
      "Epoch 37/100\n",
      "1000/1000 [==============================] - 0s 434us/step - loss: 0.3806 - acc: 0.8450 - val_loss: 0.3158 - val_acc: 0.8800\n",
      "Epoch 38/100\n",
      "1000/1000 [==============================] - 0s 435us/step - loss: 0.3566 - acc: 0.8670 - val_loss: 0.2864 - val_acc: 0.8840\n",
      "Epoch 39/100\n",
      "1000/1000 [==============================] - 0s 428us/step - loss: 0.3362 - acc: 0.8830 - val_loss: 0.2543 - val_acc: 0.8840\n",
      "Epoch 40/100\n",
      "1000/1000 [==============================] - 0s 460us/step - loss: 0.3268 - acc: 0.8790 - val_loss: 0.2364 - val_acc: 0.8860\n",
      "Epoch 41/100\n",
      "1000/1000 [==============================] - 1s 507us/step - loss: 0.2845 - acc: 0.9110 - val_loss: 0.2170 - val_acc: 0.9260\n",
      "Epoch 42/100\n",
      "1000/1000 [==============================] - 1s 505us/step - loss: 0.2765 - acc: 0.9040 - val_loss: 0.1950 - val_acc: 0.9870\n",
      "Epoch 43/100\n",
      "1000/1000 [==============================] - 0s 457us/step - loss: 0.2577 - acc: 0.9200 - val_loss: 0.1730 - val_acc: 0.9660\n",
      "Epoch 44/100\n",
      "1000/1000 [==============================] - 0s 463us/step - loss: 0.2592 - acc: 0.9270 - val_loss: 0.1552 - val_acc: 1.0000\n",
      "Epoch 45/100\n",
      "1000/1000 [==============================] - 0s 484us/step - loss: 0.2185 - acc: 0.9470 - val_loss: 0.1347 - val_acc: 1.0000\n",
      "Epoch 46/100\n",
      "1000/1000 [==============================] - 1s 564us/step - loss: 0.2088 - acc: 0.9460 - val_loss: 0.1158 - val_acc: 1.0000\n",
      "Epoch 47/100\n",
      "1000/1000 [==============================] - 1s 536us/step - loss: 0.1839 - acc: 0.9640 - val_loss: 0.0984 - val_acc: 1.0000\n",
      "Epoch 48/100\n",
      "1000/1000 [==============================] - 1s 620us/step - loss: 0.1723 - acc: 0.9710 - val_loss: 0.0851 - val_acc: 1.0000\n",
      "Epoch 49/100\n",
      "1000/1000 [==============================] - 1s 526us/step - loss: 0.1615 - acc: 0.9690 - val_loss: 0.0768 - val_acc: 1.0000\n",
      "Epoch 50/100\n",
      "1000/1000 [==============================] - 1s 540us/step - loss: 0.1392 - acc: 0.9750 - val_loss: 0.0600 - val_acc: 1.0000\n",
      "Epoch 51/100\n",
      "1000/1000 [==============================] - 1s 623us/step - loss: 0.1412 - acc: 0.9770 - val_loss: 0.0547 - val_acc: 1.0000\n",
      "Epoch 52/100\n",
      "1000/1000 [==============================] - 1s 573us/step - loss: 0.1227 - acc: 0.9830 - val_loss: 0.0472 - val_acc: 1.0000\n",
      "Epoch 53/100\n",
      "1000/1000 [==============================] - 1s 532us/step - loss: 0.1280 - acc: 0.9760 - val_loss: 0.0427 - val_acc: 1.0000\n",
      "Epoch 54/100\n",
      "1000/1000 [==============================] - 0s 475us/step - loss: 0.1091 - acc: 0.9780 - val_loss: 0.0371 - val_acc: 1.0000\n",
      "Epoch 55/100\n",
      "1000/1000 [==============================] - 0s 467us/step - loss: 0.1064 - acc: 0.9800 - val_loss: 0.0328 - val_acc: 1.0000\n",
      "Epoch 56/100\n",
      "1000/1000 [==============================] - 0s 486us/step - loss: 0.1165 - acc: 0.9740 - val_loss: 0.0327 - val_acc: 1.0000\n",
      "Epoch 57/100\n",
      "1000/1000 [==============================] - 0s 474us/step - loss: 0.0978 - acc: 0.9850 - val_loss: 0.0308 - val_acc: 1.0000\n",
      "Epoch 58/100\n",
      "1000/1000 [==============================] - 0s 466us/step - loss: 0.1101 - acc: 0.9830 - val_loss: 0.0294 - val_acc: 1.0000\n",
      "Epoch 59/100\n",
      "1000/1000 [==============================] - 0s 499us/step - loss: 0.0914 - acc: 0.9840 - val_loss: 0.0244 - val_acc: 1.0000\n",
      "Epoch 60/100\n",
      "1000/1000 [==============================] - 1s 506us/step - loss: 0.0911 - acc: 0.9850 - val_loss: 0.0226 - val_acc: 1.0000\n",
      "Epoch 61/100\n",
      "1000/1000 [==============================] - 0s 491us/step - loss: 0.0884 - acc: 0.9860 - val_loss: 0.0217 - val_acc: 1.0000\n",
      "Epoch 62/100\n",
      "1000/1000 [==============================] - 0s 474us/step - loss: 0.0871 - acc: 0.9870 - val_loss: 0.0196 - val_acc: 1.0000\n",
      "Epoch 63/100\n",
      "1000/1000 [==============================] - 0s 475us/step - loss: 0.0798 - acc: 0.9850 - val_loss: 0.0183 - val_acc: 1.0000\n",
      "Epoch 64/100\n",
      "1000/1000 [==============================] - 0s 486us/step - loss: 0.0888 - acc: 0.9860 - val_loss: 0.0180 - val_acc: 1.0000\n",
      "Epoch 65/100\n",
      "1000/1000 [==============================] - 1s 527us/step - loss: 0.0678 - acc: 0.9950 - val_loss: 0.0155 - val_acc: 1.0000\n",
      "Epoch 66/100\n",
      "1000/1000 [==============================] - 1s 528us/step - loss: 0.0548 - acc: 0.9940 - val_loss: 0.0135 - val_acc: 1.0000\n",
      "Epoch 67/100\n",
      "1000/1000 [==============================] - 1s 554us/step - loss: 0.0602 - acc: 0.9900 - val_loss: 0.0139 - val_acc: 1.0000\n",
      "Epoch 68/100\n",
      "1000/1000 [==============================] - 1s 650us/step - loss: 0.0539 - acc: 0.9920 - val_loss: 0.0119 - val_acc: 1.0000\n",
      "Epoch 69/100\n",
      "1000/1000 [==============================] - 1s 672us/step - loss: 0.0528 - acc: 0.9930 - val_loss: 0.0113 - val_acc: 1.0000\n",
      "Epoch 70/100\n",
      "1000/1000 [==============================] - 1s 540us/step - loss: 0.0615 - acc: 0.9920 - val_loss: 0.0114 - val_acc: 1.0000\n",
      "Epoch 71/100\n",
      "1000/1000 [==============================] - 1s 519us/step - loss: 0.0596 - acc: 0.9930 - val_loss: 0.0099 - val_acc: 1.0000\n",
      "Epoch 72/100\n",
      "1000/1000 [==============================] - 0s 494us/step - loss: 0.0557 - acc: 0.9930 - val_loss: 0.0091 - val_acc: 1.0000\n",
      "Epoch 73/100\n",
      "1000/1000 [==============================] - 0s 475us/step - loss: 0.0552 - acc: 0.9910 - val_loss: 0.0093 - val_acc: 1.0000\n",
      "Epoch 74/100\n",
      "1000/1000 [==============================] - 0s 483us/step - loss: 0.0610 - acc: 0.9880 - val_loss: 0.0095 - val_acc: 1.0000\n",
      "Epoch 75/100\n",
      "1000/1000 [==============================] - 1s 504us/step - loss: 0.0490 - acc: 0.9930 - val_loss: 0.0079 - val_acc: 1.0000\n",
      "Epoch 76/100\n",
      "1000/1000 [==============================] - 0s 495us/step - loss: 0.0418 - acc: 0.9940 - val_loss: 0.0072 - val_acc: 1.0000\n",
      "Epoch 77/100\n",
      "1000/1000 [==============================] - 0s 497us/step - loss: 0.0460 - acc: 0.9950 - val_loss: 0.0079 - val_acc: 1.0000\n",
      "Epoch 78/100\n",
      "1000/1000 [==============================] - 0s 472us/step - loss: 0.0547 - acc: 0.9890 - val_loss: 0.0070 - val_acc: 1.0000\n",
      "Epoch 79/100\n",
      "1000/1000 [==============================] - 0s 488us/step - loss: 0.0367 - acc: 0.9970 - val_loss: 0.0062 - val_acc: 1.0000\n",
      "Epoch 80/100\n",
      "1000/1000 [==============================] - 0s 492us/step - loss: 0.0398 - acc: 0.9960 - val_loss: 0.0070 - val_acc: 1.0000\n",
      "Epoch 81/100\n",
      "1000/1000 [==============================] - 1s 506us/step - loss: 0.0422 - acc: 0.9970 - val_loss: 0.0054 - val_acc: 1.0000\n",
      "Epoch 82/100\n",
      "1000/1000 [==============================] - 0s 496us/step - loss: 0.0298 - acc: 0.9970 - val_loss: 0.0052 - val_acc: 1.0000\n",
      "Epoch 83/100\n",
      "1000/1000 [==============================] - 1s 511us/step - loss: 0.0357 - acc: 0.9940 - val_loss: 0.0052 - val_acc: 1.0000\n",
      "Epoch 84/100\n",
      "1000/1000 [==============================] - 0s 465us/step - loss: 0.0325 - acc: 0.9970 - val_loss: 0.0049 - val_acc: 1.0000\n",
      "Epoch 85/100\n",
      "1000/1000 [==============================] - 1s 503us/step - loss: 0.0325 - acc: 0.9970 - val_loss: 0.0049 - val_acc: 1.0000\n",
      "Epoch 86/100\n",
      "1000/1000 [==============================] - 0s 467us/step - loss: 0.0413 - acc: 0.9940 - val_loss: 0.0046 - val_acc: 1.0000\n",
      "Epoch 87/100\n",
      "1000/1000 [==============================] - 1s 509us/step - loss: 0.0318 - acc: 0.9940 - val_loss: 0.0043 - val_acc: 1.0000\n",
      "Epoch 88/100\n",
      "1000/1000 [==============================] - 0s 478us/step - loss: 0.0285 - acc: 0.9970 - val_loss: 0.0039 - val_acc: 1.0000\n",
      "Epoch 89/100\n",
      "1000/1000 [==============================] - 1s 504us/step - loss: 0.0298 - acc: 0.9990 - val_loss: 0.0038 - val_acc: 1.0000\n",
      "Epoch 90/100\n",
      "1000/1000 [==============================] - 0s 472us/step - loss: 0.0304 - acc: 0.9960 - val_loss: 0.0039 - val_acc: 1.0000\n",
      "Epoch 91/100\n",
      "1000/1000 [==============================] - 0s 485us/step - loss: 0.0267 - acc: 1.0000 - val_loss: 0.0037 - val_acc: 1.0000\n",
      "Epoch 92/100\n",
      "1000/1000 [==============================] - 0s 485us/step - loss: 0.0290 - acc: 0.9970 - val_loss: 0.0033 - val_acc: 1.0000\n",
      "Epoch 93/100\n",
      "1000/1000 [==============================] - 0s 481us/step - loss: 0.0333 - acc: 0.9950 - val_loss: 0.0032 - val_acc: 1.0000\n",
      "Epoch 94/100\n",
      "1000/1000 [==============================] - 0s 470us/step - loss: 0.0231 - acc: 0.9970 - val_loss: 0.0030 - val_acc: 1.0000\n",
      "Epoch 95/100\n",
      "1000/1000 [==============================] - 1s 505us/step - loss: 0.0320 - acc: 0.9940 - val_loss: 0.0028 - val_acc: 1.0000\n",
      "Epoch 96/100\n",
      "1000/1000 [==============================] - 0s 478us/step - loss: 0.0319 - acc: 0.9940 - val_loss: 0.0029 - val_acc: 1.0000\n",
      "Epoch 97/100\n",
      "1000/1000 [==============================] - 1s 507us/step - loss: 0.0259 - acc: 0.9980 - val_loss: 0.0025 - val_acc: 1.0000\n",
      "Epoch 98/100\n",
      "1000/1000 [==============================] - 0s 496us/step - loss: 0.0269 - acc: 0.9970 - val_loss: 0.0025 - val_acc: 1.0000\n",
      "Epoch 99/100\n",
      "1000/1000 [==============================] - 0s 494us/step - loss: 0.0282 - acc: 0.9980 - val_loss: 0.0024 - val_acc: 1.0000\n",
      "Epoch 100/100\n",
      "1000/1000 [==============================] - 0s 489us/step - loss: 0.0294 - acc: 0.9970 - val_loss: 0.0025 - val_acc: 1.0000\n"
     ]
    },
    {
     "data": {
      "text/plain": [
       "<keras.callbacks.History at 0x1218bab38>"
      ]
     },
     "execution_count": 7,
     "metadata": {},
     "output_type": "execute_result"
    }
   ],
   "source": [
    "\n",
    "input_sequence = Input((story_maxlen,))\n",
    "question = Input((query_maxlen,))\n",
    "\n",
    "input_encoder_m = Sequential()\n",
    "input_encoder_m.add(Embedding(input_dim=vocab_size,\n",
    "                              output_dim=64))\n",
    "input_encoder_m.add(Dropout(0.3))\n",
    "\n",
    "input_encoder_c = Sequential()\n",
    "input_encoder_c.add(Embedding(input_dim=vocab_size,\n",
    "                              output_dim=query_maxlen))\n",
    "input_encoder_c.add(Dropout(0.3))\n",
    "\n",
    "question_encoder = Sequential()\n",
    "question_encoder.add(Embedding(input_dim=vocab_size,\n",
    "                               output_dim=64,\n",
    "                               input_length=query_maxlen))\n",
    "question_encoder.add(Dropout(0.3))\n",
    "\n",
    "\n",
    "input_encoded_m = input_encoder_m(input_sequence)\n",
    "input_encoded_c = input_encoder_c(input_sequence)\n",
    "question_encoded = question_encoder(question)\n",
    "\n",
    "\n",
    "match = dot([input_encoded_m, question_encoded], axes=(2, 2))\n",
    "match = Activation('softmax')(match)\n",
    "\n",
    "\n",
    "response = add([match, input_encoded_c])\n",
    "response = Permute((2, 1))(response)\n",
    "\n",
    "\n",
    "answer = concatenate([response, question_encoded])\n",
    "\n",
    "answer = LSTM(32)(answer)\n",
    "\n",
    "\n",
    "answer = Dropout(0.3)(answer)\n",
    "answer = Dense(vocab_size)(answer)\n",
    "\n",
    "answer = Activation('softmax')(answer)\n",
    "\n",
    "\n",
    "model = Model([input_sequence, question], answer)\n",
    "model.compile(optimizer='adam', loss='sparse_categorical_crossentropy',\n",
    "              metrics=['accuracy'])\n",
    "\n",
    "# train\n",
    "model.fit([inputs_train, queries_train], answers_train,\n",
    "          batch_size=32,\n",
    "          epochs=100,\n",
    "          validation_data=([inputs_test, queries_test], answers_test))"
   ]
  },
  {
   "cell_type": "code",
   "execution_count": null,
   "metadata": {
    "collapsed": true
   },
   "outputs": [],
   "source": [
    "idxToWord = {}\n",
    "for key,value in word_idx.items():\n",
    "    idxToWord[value] = key"
   ]
  },
  {
   "cell_type": "code",
   "execution_count": 7,
   "metadata": {
    "collapsed": false
   },
   "outputs": [],
   "source": [
    "predicted_values = model.predict([inputs_test, queries_test])\n",
    "predicted=[]\n",
    "true=[]\n",
    "for i in range(predicted_values.shape[0]):\n",
    "    predicted.append(idxToWord[np.argmax(predicted_values[i])])\n",
    "    true.append(idxToWord[answers_test[i]])"
   ]
  },
  {
   "cell_type": "code",
   "execution_count": 8,
   "metadata": {
    "collapsed": true
   },
   "outputs": [],
   "source": [
    "from pandas_ml import ConfusionMatrix"
   ]
  },
  {
   "cell_type": "code",
   "execution_count": 9,
   "metadata": {
    "collapsed": true
   },
   "outputs": [],
   "source": [
    "import matplotlib.pyplot as plt"
   ]
  },
  {
   "cell_type": "code",
   "execution_count": 10,
   "metadata": {
    "collapsed": false
   },
   "outputs": [
    {
     "data": {
      "image/png": "[encoded data removed]",
      "text/plain": [
       "<matplotlib.figure.Figure at 0x123d57ac8>"
      ]
     },
     "metadata": {},
     "output_type": "display_data"
    }
   ],
   "source": [
    "cm = ConfusionMatrix(predicted,true)\n",
    "cm.plot(normalized=True)\n",
    "plt.show()"
   ]
  },
  {
   "cell_type": "code",
   "execution_count": 11,
   "metadata": {
    "collapsed": true
   },
   "outputs": [],
   "source": [
    "#val_loss: 4.9372 - val_acc: 0.5340 EPOCH 500 - NonSupport"
   ]
  },
  {
   "cell_type": "code",
   "execution_count": 12,
   "metadata": {
    "collapsed": true
   },
   "outputs": [],
   "source": [
    "#val_loss: 2.4631 - val_acc: 0.5230 EPOCH 100 - NonSupport"
   ]
  },
  {
   "cell_type": "code",
   "execution_count": 13,
   "metadata": {
    "collapsed": true
   },
   "outputs": [],
   "source": [
    "#val_loss: 1.2375 - val_acc: 0.4900 EPOCH 40 - NonSupport"
   ]
  },
  {
   "cell_type": "code",
   "execution_count": 14,
   "metadata": {
    "collapsed": true
   },
   "outputs": [],
   "source": [
    "#val_loss: 0.5266 - val_acc: 0.8010 EPOCH 40 - Support"
   ]
  },
  {
   "cell_type": "code",
   "execution_count": 15,
   "metadata": {
    "collapsed": true
   },
   "outputs": [],
   "source": [
    "#val_loss: 0.0029 - val_acc: 1.0000 EPOCH 100 - Support"
   ]
  },
  {
   "cell_type": "code",
   "execution_count": 16,
   "metadata": {
    "collapsed": true
   },
   "outputs": [],
   "source": [
    "#val_loss: 1.9073e-06 - val_acc: 1.0000 EPOCH 500 - Support"
   ]
  },
  {
   "cell_type": "code",
   "execution_count": null,
   "metadata": {
    "collapsed": true
   },
   "outputs": [],
   "source": []
  }
 ],
 "metadata": {
  "anaconda-cloud": {},
  "kernelspec": {
   "display_name": "Python [conda env:anaconda]",
   "language": "python",
   "name": "conda-env-anaconda-py"
  }
 },
 "nbformat": 4,
 "nbformat_minor": 1
}
