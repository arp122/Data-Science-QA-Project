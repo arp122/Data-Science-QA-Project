{
 "cells": [
  {
   "cell_type": "code",
   "execution_count": 1,
   "metadata": {
    "collapsed": true
   },
   "outputs": [],
   "source": [
    "from sklearn.metrics import accuracy_score"
   ]
  },
  {
   "cell_type": "code",
   "execution_count": 3,
   "metadata": {
    "collapsed": false
   },
   "outputs": [
    {
     "name": "stderr",
     "output_type": "stream",
     "text": [
      "//anaconda/lib/python3.5/site-packages/h5py/__init__.py:34: FutureWarning: Conversion of the second argument of issubdtype from `float` to `np.floating` is deprecated. In future, it will be treated as `np.float64 == np.dtype(float).type`.\n",
      "  from ._conv import register_converters as _register_converters\n",
      "Using TensorFlow backend.\n"
     ]
    }
   ],
   "source": [
    "from keras.utils.data_utils import get_file\n",
    "from keras.layers.embeddings import Embedding\n",
    "from keras import layers\n",
    "from keras.layers import recurrent\n",
    "from keras.models import Model\n",
    "from keras.preprocessing.sequence import pad_sequences"
   ]
  },
  {
   "cell_type": "code",
   "execution_count": 19,
   "metadata": {
    "collapsed": false
   },
   "outputs": [
    {
     "name": "stderr",
     "output_type": "stream",
     "text": [
      "//anaconda/lib/python3.5/re.py:203: FutureWarning: split() requires a non-empty pattern match.\n",
      "  return _compile(pattern, flags).split(string, maxsplit)\n"
     ]
    },
    {
     "name": "stdout",
     "output_type": "stream",
     "text": [
      "vocab = ['.', '?', 'Bill', 'Fred', 'Jeff', 'Mary', 'What', 'Who', 'apple', 'did', 'football', 'gave', 'give', 'handed', 'milk', 'passed', 'received', 'the', 'to']\n",
      "x.shape = (1000, 7)\n",
      "xq.shape = (1000, 8)\n",
      "y.shape = (1000, 20)\n",
      "story_maxlen, query_maxlen = 7, 8\n"
     ]
    }
   ],
   "source": [
    "from __future__ import print_function\n",
    "from functools import reduce\n",
    "import re\n",
    "import tarfile\n",
    "\n",
    "import numpy as np\n",
    "\n",
    "def tokenize(sent):\n",
    "    token = []\n",
    "    for x in re.split('(\\W+)?', sent):\n",
    "        if x.strip():\n",
    "            token.append(x.strip())\n",
    "    return token\n",
    "\n",
    "def parse_stories(lines,only_supporting=False):\n",
    "    data = []\n",
    "    story = []\n",
    "    for line in lines:\n",
    "        line = line.decode('utf-8').strip()\n",
    "        nid, line = line.split(' ', 1)\n",
    "        nid = int(nid)\n",
    "        if nid == 1:\n",
    "            story = []\n",
    "        if '\\t' in line:\n",
    "            q, a, supporting = line.split('\\t')\n",
    "            q = tokenize(q)\n",
    "            substory = None\n",
    "            if only_supporting:\n",
    "                # Only select the related substory\n",
    "                supporting = map(int, supporting.split())\n",
    "                substory = [story[i - 1] for i in supporting]\n",
    "            else:\n",
    "                # Provide all the substories\n",
    "                substory = [x for x in story if x]\n",
    "            data.append((substory, q, a))\n",
    "            story.append('')\n",
    "        else:\n",
    "            sent = tokenize(line)\n",
    "            story.append(sent)\n",
    "    return data\n",
    "\n",
    "\n",
    "def get_stories(file,only_supporting=False):\n",
    "    data = parse_stories(file.readlines(),only_supporting)\n",
    "    flatten = lambda data: reduce(lambda x, y: x + y, data)\n",
    "    \n",
    "    temp_data = []\n",
    "    for story, q, answer in data:\n",
    "        temp_data.append((flatten(story), q, answer))\n",
    "    return temp_data\n",
    "\n",
    "\n",
    "def vectorize_stories(data, word_idx, story_maxlen, query_maxlen):\n",
    "    xs = []\n",
    "    xqs = []\n",
    "    ys = []\n",
    "    for story, query, answer in data:\n",
    "        x = [word_idx[w] for w in story]\n",
    "        xq = [word_idx[w] for w in query]\n",
    "        y = np.zeros(len(word_idx) + 1)\n",
    "        y[word_idx[answer]] = 1\n",
    "        xs.append(x)\n",
    "        xqs.append(xq)\n",
    "        ys.append(y)\n",
    "    return pad_sequences(xs, maxlen=story_maxlen), pad_sequences(xqs, maxlen=query_maxlen), np.array(ys)\n",
    "\n",
    "# Download the dataset\n",
    "try:\n",
    "    path = get_file('babi-tasks-v1-2.tar.gz', origin='https://s3.amazonaws.com/text-datasets/babi_tasks_1-20_v1-2.tar.gz')\n",
    "except:\n",
    "    print('Error downloading dataset, please download it manually:\\n'\n",
    "          '$ wget http://www.thespermwhale.com/jaseweston/babi/tasks_1-20_v1-2.tar.gz\\n'\n",
    "          '$ mv tasks_1-20_v1-2.tar.gz ~/.keras/datasets/babi-tasks-v1-2.tar.gz')\n",
    "    raise\n",
    "\n",
    "task = 'tasks_1-20_v1-2/en/qa5_three-arg-relations_{}.txt'\n",
    "\n",
    "with tarfile.open(path) as tar:\n",
    "    train = get_stories(tar.extractfile(task.format('train')),only_supporting=True)\n",
    "    test = get_stories(tar.extractfile(task.format('test')),only_supporting=True)\n",
    "\n",
    "vocab = set()\n",
    "for story, q, answer in train + test:\n",
    "    vocab |= set(story + q + [answer])\n",
    "vocab = sorted(vocab)\n",
    "\n",
    "\n",
    "vocab_size = len(vocab) + 1\n",
    "word_idx = dict((c, i + 1) for i, c in enumerate(vocab))\n",
    "story_maxlen = max(map(len, (x for x, _, _ in train + test)))\n",
    "query_maxlen = max(map(len, (x for _, x, _ in train + test)))\n",
    "\n",
    "x, xq, y = vectorize_stories(train, word_idx, story_maxlen, query_maxlen)\n",
    "tx, txq, ty = vectorize_stories(test, word_idx, story_maxlen, query_maxlen)\n",
    "\n",
    "print('vocab = {}'.format(vocab))\n",
    "print('x.shape = {}'.format(x.shape))\n",
    "print('xq.shape = {}'.format(xq.shape))\n",
    "print('y.shape = {}'.format(y.shape))\n",
    "print('story_maxlen, query_maxlen = {}, {}'.format(story_maxlen, query_maxlen))"
   ]
  },
  {
   "cell_type": "code",
   "execution_count": 20,
   "metadata": {
    "collapsed": false,
    "scrolled": true
   },
   "outputs": [
    {
     "name": "stdout",
     "output_type": "stream",
     "text": [
      "Build model...\n",
      "Training\n",
      "Train on 950 samples, validate on 50 samples\n",
      "Epoch 1/50\n",
      "950/950 [==============================] - 2s 2ms/step - loss: 2.7193 - acc: 0.1368 - val_loss: 2.2086 - val_acc: 0.0800\n",
      "Epoch 2/50\n",
      "950/950 [==============================] - 1s 633us/step - loss: 2.0145 - acc: 0.1979 - val_loss: 1.6801 - val_acc: 0.2000\n",
      "Epoch 3/50\n",
      "950/950 [==============================] - 1s 600us/step - loss: 1.5525 - acc: 0.2863 - val_loss: 1.3282 - val_acc: 0.2000\n",
      "Epoch 4/50\n",
      "950/950 [==============================] - 1s 697us/step - loss: 1.4187 - acc: 0.2895 - val_loss: 1.3324 - val_acc: 0.2000\n",
      "Epoch 5/50\n",
      "950/950 [==============================] - 1s 596us/step - loss: 1.3664 - acc: 0.2905 - val_loss: 1.3019 - val_acc: 0.2000\n",
      "Epoch 6/50\n",
      "950/950 [==============================] - 1s 685us/step - loss: 1.3777 - acc: 0.2726 - val_loss: 1.2523 - val_acc: 0.4400\n",
      "Epoch 7/50\n",
      "950/950 [==============================] - 1s 685us/step - loss: 1.3498 - acc: 0.3074 - val_loss: 1.2568 - val_acc: 0.4400\n",
      "Epoch 8/50\n",
      "950/950 [==============================] - 1s 655us/step - loss: 1.3380 - acc: 0.3042 - val_loss: 1.2421 - val_acc: 0.5000\n",
      "Epoch 9/50\n",
      "950/950 [==============================] - 1s 641us/step - loss: 1.2952 - acc: 0.3389 - val_loss: 1.1873 - val_acc: 0.5600\n",
      "Epoch 10/50\n",
      "950/950 [==============================] - 1s 624us/step - loss: 1.2113 - acc: 0.3789 - val_loss: 1.0568 - val_acc: 0.5400\n",
      "Epoch 11/50\n",
      "950/950 [==============================] - 1s 645us/step - loss: 1.1040 - acc: 0.4316 - val_loss: 0.9575 - val_acc: 0.5800\n",
      "Epoch 12/50\n",
      "950/950 [==============================] - 1s 647us/step - loss: 1.0150 - acc: 0.5295 - val_loss: 0.9076 - val_acc: 0.5800\n",
      "Epoch 13/50\n",
      "950/950 [==============================] - 1s 621us/step - loss: 0.9853 - acc: 0.5053 - val_loss: 0.8369 - val_acc: 0.5800\n",
      "Epoch 14/50\n",
      "950/950 [==============================] - 1s 540us/step - loss: 0.9239 - acc: 0.5379 - val_loss: 0.8006 - val_acc: 0.5600\n",
      "Epoch 15/50\n",
      "950/950 [==============================] - 1s 536us/step - loss: 0.9212 - acc: 0.5305 - val_loss: 0.8074 - val_acc: 0.5800\n",
      "Epoch 16/50\n",
      "950/950 [==============================] - 0s 520us/step - loss: 0.9182 - acc: 0.5358 - val_loss: 0.7830 - val_acc: 0.5600\n",
      "Epoch 17/50\n",
      "950/950 [==============================] - 1s 573us/step - loss: 0.9154 - acc: 0.5411 - val_loss: 0.8217 - val_acc: 0.5400\n",
      "Epoch 18/50\n",
      "950/950 [==============================] - 1s 553us/step - loss: 0.9080 - acc: 0.5421 - val_loss: 0.7801 - val_acc: 0.5800\n",
      "Epoch 19/50\n",
      "950/950 [==============================] - 1s 562us/step - loss: 0.9035 - acc: 0.5463 - val_loss: 0.7799 - val_acc: 0.5800\n",
      "Epoch 20/50\n",
      "950/950 [==============================] - 1s 568us/step - loss: 0.9235 - acc: 0.5211 - val_loss: 0.7814 - val_acc: 0.6800\n",
      "Epoch 21/50\n",
      "950/950 [==============================] - 1s 535us/step - loss: 0.8956 - acc: 0.5737 - val_loss: 0.7740 - val_acc: 0.5800\n",
      "Epoch 22/50\n",
      "950/950 [==============================] - 1s 535us/step - loss: 0.8962 - acc: 0.5326 - val_loss: 0.7596 - val_acc: 0.5800\n",
      "Epoch 23/50\n",
      "950/950 [==============================] - 1s 576us/step - loss: 0.8860 - acc: 0.5432 - val_loss: 0.7852 - val_acc: 0.5800\n",
      "Epoch 24/50\n",
      "950/950 [==============================] - 1s 550us/step - loss: 0.8952 - acc: 0.5453 - val_loss: 0.7483 - val_acc: 0.6400\n",
      "Epoch 25/50\n",
      "950/950 [==============================] - 1s 544us/step - loss: 0.8808 - acc: 0.5611 - val_loss: 0.7507 - val_acc: 0.7200\n",
      "Epoch 26/50\n",
      "950/950 [==============================] - 1s 554us/step - loss: 0.8876 - acc: 0.5611 - val_loss: 0.7277 - val_acc: 0.6800\n",
      "Epoch 27/50\n",
      "950/950 [==============================] - 1s 546us/step - loss: 0.8402 - acc: 0.6011 - val_loss: 0.7028 - val_acc: 0.7200\n",
      "Epoch 28/50\n",
      "950/950 [==============================] - 1s 580us/step - loss: 0.8192 - acc: 0.6137 - val_loss: 0.6908 - val_acc: 0.7000\n",
      "Epoch 29/50\n",
      "950/950 [==============================] - 1s 585us/step - loss: 0.7833 - acc: 0.6347 - val_loss: 0.6774 - val_acc: 0.6800\n",
      "Epoch 30/50\n",
      "950/950 [==============================] - 1s 606us/step - loss: 0.6879 - acc: 0.7000 - val_loss: 0.5158 - val_acc: 0.8200\n",
      "Epoch 31/50\n",
      "950/950 [==============================] - 1s 699us/step - loss: 0.6359 - acc: 0.7126 - val_loss: 0.4600 - val_acc: 0.8200\n",
      "Epoch 32/50\n",
      "950/950 [==============================] - 1s 631us/step - loss: 0.5468 - acc: 0.7358 - val_loss: 0.4071 - val_acc: 0.9400\n",
      "Epoch 33/50\n",
      "950/950 [==============================] - 1s 640us/step - loss: 0.4969 - acc: 0.7705 - val_loss: 0.3693 - val_acc: 0.9600\n",
      "Epoch 34/50\n",
      "950/950 [==============================] - 1s 622us/step - loss: 0.4568 - acc: 0.7874 - val_loss: 0.3234 - val_acc: 0.9600\n",
      "Epoch 35/50\n",
      "950/950 [==============================] - 1s 571us/step - loss: 0.4048 - acc: 0.8568 - val_loss: 0.3013 - val_acc: 0.9600\n",
      "Epoch 36/50\n",
      "950/950 [==============================] - 1s 795us/step - loss: 0.3706 - acc: 0.8737 - val_loss: 0.2523 - val_acc: 0.9600\n",
      "Epoch 37/50\n",
      "950/950 [==============================] - 1s 825us/step - loss: 0.3196 - acc: 0.9000 - val_loss: 0.2158 - val_acc: 0.9600\n",
      "Epoch 38/50\n",
      "950/950 [==============================] - 1s 649us/step - loss: 0.2778 - acc: 0.9168 - val_loss: 0.1854 - val_acc: 0.9600\n",
      "Epoch 39/50\n",
      "950/950 [==============================] - 1s 634us/step - loss: 0.2643 - acc: 0.9221 - val_loss: 0.1812 - val_acc: 0.9600\n",
      "Epoch 40/50\n",
      "950/950 [==============================] - 1s 689us/step - loss: 0.2282 - acc: 0.9337 - val_loss: 0.1364 - val_acc: 0.9600\n",
      "Epoch 41/50\n",
      "950/950 [==============================] - 1s 709us/step - loss: 0.1976 - acc: 0.9526 - val_loss: 0.1112 - val_acc: 0.9800\n",
      "Epoch 42/50\n",
      "950/950 [==============================] - 1s 709us/step - loss: 0.1620 - acc: 0.9558 - val_loss: 0.0913 - val_acc: 1.0000\n",
      "Epoch 43/50\n",
      "950/950 [==============================] - 1s 724us/step - loss: 0.1354 - acc: 0.9716 - val_loss: 0.0721 - val_acc: 1.0000\n",
      "Epoch 44/50\n",
      "950/950 [==============================] - 1s 695us/step - loss: 0.1034 - acc: 0.9958 - val_loss: 0.0462 - val_acc: 1.0000\n",
      "Epoch 45/50\n",
      "950/950 [==============================] - 1s 677us/step - loss: 0.0816 - acc: 0.9979 - val_loss: 0.0351 - val_acc: 1.0000\n",
      "Epoch 46/50\n",
      "950/950 [==============================] - 1s 693us/step - loss: 0.0634 - acc: 1.0000 - val_loss: 0.0273 - val_acc: 1.0000\n",
      "Epoch 47/50\n",
      "950/950 [==============================] - 1s 682us/step - loss: 0.0597 - acc: 0.9968 - val_loss: 0.0235 - val_acc: 1.0000\n",
      "Epoch 48/50\n",
      "950/950 [==============================] - 1s 635us/step - loss: 0.0535 - acc: 0.9958 - val_loss: 0.0212 - val_acc: 1.0000\n",
      "Epoch 49/50\n",
      "950/950 [==============================] - 1s 625us/step - loss: 0.0475 - acc: 1.0000 - val_loss: 0.0160 - val_acc: 1.0000\n",
      "Epoch 50/50\n",
      "950/950 [==============================] - 1s 595us/step - loss: 0.0421 - acc: 0.9989 - val_loss: 0.0217 - val_acc: 1.0000\n",
      "1000/1000 [==============================] - 0s 150us/step\n",
      "Test loss / test accuracy = 0.0202 / 1.0000\n"
     ]
    }
   ],
   "source": [
    "RNN = recurrent.LSTM #recurrent.GRU\n",
    "EMBED_HIDDEN_SIZE = 50\n",
    "SENT_HIDDEN_SIZE = 100\n",
    "QUERY_HIDDEN_SIZE = 100\n",
    "BATCH_SIZE = 32\n",
    "EPOCHS = 50\n",
    "\n",
    "print('Build model...')\n",
    "\n",
    "sentence = layers.Input(shape=(story_maxlen,), dtype='int32')\n",
    "encoded_sentence = layers.Embedding(vocab_size, EMBED_HIDDEN_SIZE)(sentence)\n",
    "encoded_sentence = layers.Dropout(0.3)(encoded_sentence)\n",
    "\n",
    "question = layers.Input(shape=(query_maxlen,), dtype='int32')\n",
    "encoded_question = layers.Embedding(vocab_size, EMBED_HIDDEN_SIZE)(question)\n",
    "encoded_question = layers.Dropout(0.3)(encoded_question)\n",
    "encoded_question = RNN(EMBED_HIDDEN_SIZE)(encoded_question)\n",
    "encoded_question = layers.RepeatVector(story_maxlen)(encoded_question)\n",
    "\n",
    "merged = layers.add([encoded_sentence, encoded_question])\n",
    "merged = RNN(EMBED_HIDDEN_SIZE)(merged)\n",
    "merged = layers.Dropout(0.3)(merged)\n",
    "preds = layers.Dense(vocab_size, activation='softmax')(merged)\n",
    "\n",
    "model = Model([sentence, question], preds)\n",
    "model.compile(optimizer='adam',\n",
    "              loss='categorical_crossentropy',\n",
    "              metrics=['accuracy'])\n",
    "\n",
    "print('Training')\n",
    "model.fit([x, xq], y,\n",
    "          batch_size=BATCH_SIZE,\n",
    "          epochs=EPOCHS,\n",
    "          validation_split=0.05)\n",
    "loss, acc = model.evaluate([tx, txq], ty,\n",
    "                           batch_size=BATCH_SIZE)\n",
    "print('Test loss / test accuracy = {:.4f} / {:.4f}'.format(loss, acc))"
   ]
  },
  {
   "cell_type": "code",
   "execution_count": 21,
   "metadata": {
    "collapsed": true
   },
   "outputs": [],
   "source": [
    "#Test loss / test accuracy = 0.0004 / 1.0000 EPOCHS = 100 LSTM"
   ]
  },
  {
   "cell_type": "code",
   "execution_count": 22,
   "metadata": {
    "collapsed": true
   },
   "outputs": [],
   "source": [
    "#Test loss / test accuracy = 0.0100 / 1.0000   EPOCHS = 50 LSTM"
   ]
  },
  {
   "cell_type": "code",
   "execution_count": 23,
   "metadata": {
    "collapsed": true
   },
   "outputs": [],
   "source": [
    "#Test loss / test accuracy = 0.0014 / 1.0000 EPOCHS = 50 GRU"
   ]
  },
  {
   "cell_type": "code",
   "execution_count": 24,
   "metadata": {
    "collapsed": true
   },
   "outputs": [],
   "source": [
    "# Test loss / test accuracy = 0.0002 / 1.0000 EPOCHS = 100 GRU"
   ]
  },
  {
   "cell_type": "code",
   "execution_count": 25,
   "metadata": {
    "collapsed": true
   },
   "outputs": [],
   "source": [
    "idxToWord = {}\n",
    "for key,value in word_idx.items():\n",
    "    idxToWord[value] = key"
   ]
  },
  {
   "cell_type": "code",
   "execution_count": 26,
   "metadata": {
    "collapsed": true
   },
   "outputs": [],
   "source": [
    "predicted_values = model.predict([tx, txq])\n",
    "predicted=[]\n",
    "true=[]\n",
    "for i in range(predicted_values.shape[0]):\n",
    "    predicted.append(idxToWord[np.argmax(predicted_values[i])])\n",
    "    true.append(idxToWord[np.argmax(ty[i])])"
   ]
  },
  {
   "cell_type": "code",
   "execution_count": 27,
   "metadata": {
    "collapsed": true
   },
   "outputs": [],
   "source": [
    "from pandas_ml import ConfusionMatrix\n",
    "import matplotlib.pyplot as plt"
   ]
  },
  {
   "cell_type": "code",
   "execution_count": 28,
   "metadata": {
    "collapsed": false
   },
   "outputs": [
    {
     "data": {
      "image/png": "[encoded data removed]",
      "text/plain": [
       "<matplotlib.figure.Figure at 0x124c479b0>"
      ]
     },
     "metadata": {},
     "output_type": "display_data"
    }
   ],
   "source": [
    "cm = ConfusionMatrix(predicted,true)\n",
    "cm.plot(normalized=True)\n",
    "plt.show()"
   ]
  },
  {
   "cell_type": "code",
   "execution_count": null,
   "metadata": {
    "collapsed": true
   },
   "outputs": [],
   "source": []
  }
 ],
 "metadata": {
  "anaconda-cloud": {},
  "kernelspec": {
   "display_name": "Python [conda env:anaconda]",
   "language": "python",
   "name": "conda-env-anaconda-py"
  },
  "language_info": {
   "codemirror_mode": {
    "name": "ipython",
    "version": 3
   },
   "file_extension": ".py",
   "mimetype": "text/x-python",
   "name": "python",
   "nbconvert_exporter": "python",
   "pygments_lexer": "ipython3",
   "version": "3.5.2"
  }
 },
 "nbformat": 4,
 "nbformat_minor": 1
}
